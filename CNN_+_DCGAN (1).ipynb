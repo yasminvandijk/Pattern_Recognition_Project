{
  "nbformat": 4,
  "nbformat_minor": 0,
  "metadata": {
    "colab": {
      "name": "CNN + DCGAN.ipynb",
      "provenance": [],
      "collapsed_sections": [],
      "toc_visible": true
    },
    "kernelspec": {
      "name": "python3",
      "display_name": "Python 3"
    },
    "accelerator": "GPU"
  },
  "cells": [
    {
      "cell_type": "code",
      "metadata": {
        "id": "hcSLjD22QM1a"
      },
      "source": [
        "from numpy import expand_dims\n",
        "from numpy import zeros\n",
        "from numpy import ones\n",
        "from numpy import vstack\n",
        "from numpy.random import randn\n",
        "from numpy.random import randint\n",
        "from keras.datasets.cifar10 import load_data\n",
        "from keras.optimizers import Adam\n",
        "from keras.models import Sequential\n",
        "from keras.layers import Dense\n",
        "from keras.layers import Reshape\n",
        "from keras.layers import Flatten\n",
        "from keras.layers import Conv2D\n",
        "from keras.layers import Conv2DTranspose\n",
        "from keras.layers import LeakyReLU\n",
        "from keras.layers import Dropout\n",
        "from tensorflow.keras import datasets\n",
        "from matplotlib import pyplot\n",
        "import tensorflow as tf\n",
        "import imageio\n",
        "import PIL\n",
        "import glob\n",
        "from IPython import display\n",
        "from sklearn import metrics\n",
        "import seaborn as sns"
      ],
      "execution_count": 20,
      "outputs": []
    },
    {
      "cell_type": "markdown",
      "metadata": {
        "id": "aJ-LaJ7_sqPz"
      },
      "source": [
        "# Download dataset"
      ]
    },
    {
      "cell_type": "code",
      "metadata": {
        "id": "ahCZmx9UtZMH"
      },
      "source": [
        "from PIL import Image\n",
        "import os\n",
        "import tensorflow as tf\n",
        "import numpy as np\n",
        "import matplotlib.pyplot as plt\n",
        "import zipfile\n",
        "import tensorflow_hub as hub\n",
        "from tensorflow.keras import layers\n",
        "import pandas as pd \n",
        "from sklearn.metrics import accuracy_score"
      ],
      "execution_count": 21,
      "outputs": []
    },
    {
      "cell_type": "code",
      "metadata": {
        "id": "W7c-4vRfspPn"
      },
      "source": [
        "TMP_DATA_DIR = \"dataset/tmp\"\n",
        "TMP_LABELS_DIR = os.path.join(TMP_DATA_DIR, \"GTSRB/Final_Test\")\n",
        "\n",
        "TRAINING_DATA_DIR = \"dataset/training\"\n",
        "VALIDATION_DATA_DIR = \"dataset/validation\""
      ],
      "execution_count": 22,
      "outputs": []
    },
    {
      "cell_type": "code",
      "metadata": {
        "id": "x18lZmMJszQV",
        "colab": {
          "base_uri": "https://localhost:8080/"
        },
        "outputId": "234cd992-2b54-49c1-d7fc-0b33546c1ccf"
      },
      "source": [
        "#Fetch images deom GTSRB website\n",
        "#Images for training\n",
        "!curl -LOC - https://sid.erda.dk/public/archives/daaeac0d7ce1152aea9b61d9f1e19370/GTSRB_Final_Training_Images.zip\n",
        "#Images for validation    \n",
        "!curl -LOC - https://sid.erda.dk/public/archives/daaeac0d7ce1152aea9b61d9f1e19370/GTSRB_Final_Test_Images.zip\n",
        "#Labels for validation\n",
        "!curl -LOC - https://sid.erda.dk/public/archives/daaeac0d7ce1152aea9b61d9f1e19370/GTSRB_Final_Test_GT.zip"
      ],
      "execution_count": 23,
      "outputs": [
        {
          "output_type": "stream",
          "text": [
            "** Resuming transfer from byte position 276294756\n",
            "  % Total    % Received % Xferd  Average Speed   Time    Time     Time  Current\n",
            "                                 Dload  Upload   Total   Spent    Left  Speed\n",
            "  0     0    0     0    0     0      0      0 --:--:-- --:--:-- --:--:--     0\n",
            "curl: (33) HTTP server doesn't seem to support byte ranges. Cannot resume.\n",
            "** Resuming transfer from byte position 88978620\n",
            "  % Total    % Received % Xferd  Average Speed   Time    Time     Time  Current\n",
            "                                 Dload  Upload   Total   Spent    Left  Speed\n",
            "  0     0    0     0    0     0      0      0 --:--:-- --:--:-- --:--:--     0\n",
            "curl: (33) HTTP server doesn't seem to support byte ranges. Cannot resume.\n",
            "** Resuming transfer from byte position 99620\n",
            "  % Total    % Received % Xferd  Average Speed   Time    Time     Time  Current\n",
            "                                 Dload  Upload   Total   Spent    Left  Speed\n",
            "  0     0    0     0    0     0      0      0 --:--:-- --:--:-- --:--:--     0\n",
            "curl: (33) HTTP server doesn't seem to support byte ranges. Cannot resume.\n"
          ],
          "name": "stdout"
        }
      ]
    },
    {
      "cell_type": "code",
      "metadata": {
        "id": "AgTS34gJs10s",
        "colab": {
          "base_uri": "https://localhost:8080/"
        },
        "outputId": "66c4ef63-12d4-4064-dfc6-eaf3be7f43db"
      },
      "source": [
        "%%time\n",
        "to_unpack = [\n",
        "    (\"GTSRB_Final_Training_Images.zip\", TMP_DATA_DIR),\n",
        "    (\"GTSRB_Final_Test_Images.zip\", TMP_DATA_DIR),\n",
        "    (\"GTSRB_Final_Test_GT.zip\", TMP_LABELS_DIR)\n",
        "]\n",
        " \n",
        "for file, directory in to_unpack:\n",
        "    print(\"Unzipping {} to {}...\".format(file, directory))\n",
        "    with zipfile.ZipFile(file,\"r\") as zip_ref:\n",
        "        zip_ref.extractall(directory)"
      ],
      "execution_count": 24,
      "outputs": [
        {
          "output_type": "stream",
          "text": [
            "Unzipping GTSRB_Final_Training_Images.zip to dataset/tmp...\n",
            "Unzipping GTSRB_Final_Test_Images.zip to dataset/tmp...\n",
            "Unzipping GTSRB_Final_Test_GT.zip to dataset/tmp/GTSRB/Final_Test...\n",
            "CPU times: user 7.42 s, sys: 2.99 s, total: 10.4 s\n",
            "Wall time: 16.6 s\n"
          ],
          "name": "stdout"
        }
      ]
    },
    {
      "cell_type": "code",
      "metadata": {
        "id": "j-iahiyRs6SK"
      },
      "source": [
        "# Collect all PPM files and their labels\n",
        "\n",
        "tmp_train_data_dir = os.path.join(TMP_DATA_DIR, \"GTSRB/Final_Training/Images\")\n",
        "\n",
        "# Get all subdirectories of data_dir. Each represents a label.\n",
        "directories = [d for d in os.listdir(tmp_train_data_dir) \n",
        "               if os.path.isdir(os.path.join(tmp_train_data_dir, d))]\n",
        "# Loop through the label directories and collect the data in two lists, labels and images.\n",
        "ppm_files_train = []\n",
        "ppm_labels_train = []\n",
        "for class_directory in directories:\n",
        "    label_dir = os.path.join(tmp_train_data_dir, class_directory)\n",
        "    file_names = [os.path.join(label_dir, f) \n",
        "                  for f in os.listdir(label_dir) if f.endswith(\".ppm\")]\n",
        "    # For each label, load it's images and add them to the images list.\n",
        "    # And add the label number (i.e. directory name) to the labels list.\n",
        "    for image_file in file_names:\n",
        "        ppm_files_train.append(image_file)\n",
        "        ppm_labels_train.append(class_directory)\n",
        "        \n",
        "# Let's have it sorted for better debugging.\n",
        "ppm_files_train.sort()\n",
        "ppm_labels_train.sort()"
      ],
      "execution_count": 25,
      "outputs": []
    },
    {
      "cell_type": "code",
      "metadata": {
        "id": "vg9PGIfStC_B",
        "colab": {
          "base_uri": "https://localhost:8080/"
        },
        "outputId": "3684611d-7a1f-4e29-9ced-9f96ce8292fc"
      },
      "source": [
        "%%time\n",
        "# Convert\n",
        "# from: dataset/Final_Training/Images/00000/00000_00000.ppm\n",
        "# to:   dataset/training/00000/00000_00000.jpg\n",
        "\n",
        "for ppm_file, label in zip(ppm_files_train, ppm_labels_train):\n",
        "    image = Image.open(ppm_file)\n",
        "    directory = os.path.join(TRAINING_DATA_DIR, label)\n",
        "    image_filename = \"{}.jpg\".format(os.path.splitext(os.path.basename(ppm_file))[0])\n",
        "\n",
        "    if not os.path.exists(directory):\n",
        "        os.makedirs(directory)\n",
        "    \n",
        "    image.save(os.path.join(directory, image_filename))"
      ],
      "execution_count": 26,
      "outputs": [
        {
          "output_type": "stream",
          "text": [
            "CPU times: user 10.3 s, sys: 2.43 s, total: 12.7 s\n",
            "Wall time: 12.8 s\n"
          ],
          "name": "stdout"
        }
      ]
    },
    {
      "cell_type": "code",
      "metadata": {
        "id": "uk4YQUXMuj2f",
        "colab": {
          "base_uri": "https://localhost:8080/"
        },
        "outputId": "80e8d630-8f4b-43d3-9dd7-2affc17be650"
      },
      "source": [
        "# Print all categories with example image for each of them.\n",
        "preprocessed_training_dirs = [d for d in os.listdir(TRAINING_DATA_DIR) \n",
        "               if os.path.isdir(os.path.join(TRAINING_DATA_DIR, d))]\n",
        "preprocessed_training_dirs.sort()\n",
        "\n",
        "train_images = []\n",
        "for training_dir in preprocessed_training_dirs:\n",
        "    train_images.append(os.path.join(TRAINING_DATA_DIR, training_dir, \"00000_00000.jpg\"))\n",
        "\n",
        "image_generator = tf.keras.preprocessing.image.ImageDataGenerator(rescale=1/256)\n",
        "image_data = image_generator.flow_from_directory(str(TRAINING_DATA_DIR), target_size=(32, 32))\n",
        "\n",
        "for image_batch, label_batch in image_data:\n",
        "  print(\"Image batch shape: \", image_batch.shape)\n",
        "  print(\"Label batch shape: \", label_batch.shape)\n",
        "  break"
      ],
      "execution_count": 27,
      "outputs": [
        {
          "output_type": "stream",
          "text": [
            "Found 39209 images belonging to 43 classes.\n",
            "Image batch shape:  (32, 32, 32, 3)\n",
            "Label batch shape:  (32, 43)\n"
          ],
          "name": "stdout"
        }
      ]
    },
    {
      "cell_type": "code",
      "metadata": {
        "id": "7ZwINXFpvxLk"
      },
      "source": [
        "#Load testing set\n",
        "tmp_validation_data_dir = os.path.join(TMP_DATA_DIR, \"GTSRB/Final_Test/Images\")"
      ],
      "execution_count": 28,
      "outputs": []
    },
    {
      "cell_type": "code",
      "metadata": {
        "id": "j8Nzv1gOv3Do",
        "colab": {
          "base_uri": "https://localhost:8080/"
        },
        "outputId": "f693d12e-5542-4b0a-8665-ab44d6b2f993"
      },
      "source": [
        "%%time\n",
        "\n",
        "tmp_validation_data_files = [f for f in os.listdir(tmp_validation_data_dir) if f.endswith(\".ppm\")]\n",
        "test_images = []\n",
        "\n",
        "#export as JPGs\n",
        "for ppm_file in tmp_validation_data_files:\n",
        "    image_dir = os.path.join(tmp_validation_data_dir, ppm_file) \n",
        "    image = Image.open(image_dir)\n",
        "    directory = VALIDATION_DATA_DIR\n",
        "    image_filename = \"{}.jpg\".format(os.path.splitext(os.path.basename(ppm_file))[0])\n",
        "\n",
        "    if not os.path.exists(directory):\n",
        "        os.makedirs(directory)\n",
        "        \n",
        "    final_image = os.path.join(directory, image_filename)\n",
        "    image.save(final_image)\n",
        "\n",
        "    test_images.append(final_image)\n",
        "    test_images.sort()\n",
        "    \n",
        "print(\"Validation images count:\", len(test_images))"
      ],
      "execution_count": 29,
      "outputs": [
        {
          "output_type": "stream",
          "text": [
            "Validation images count: 12630\n",
            "CPU times: user 5.49 s, sys: 863 ms, total: 6.35 s\n",
            "Wall time: 6.39 s\n"
          ],
          "name": "stdout"
        }
      ]
    },
    {
      "cell_type": "markdown",
      "metadata": {
        "id": "NcnikEfC4Z_p"
      },
      "source": [
        "# Load data"
      ]
    },
    {
      "cell_type": "code",
      "metadata": {
        "id": "sW5ErfCS5PDn"
      },
      "source": [
        "from skimage import color, exposure, transform\n",
        "from skimage import io\n",
        "import os\n",
        "import glob\n",
        "import matplotlib.image as mpimg\n",
        "\n",
        "def preprocess_img(img):\n",
        "    # Histogram normalization in v channel\n",
        "    hsv = color.rgb2hsv(img)\n",
        "    hsv[:, :, 2] = exposure.equalize_hist(hsv[:, :, 2])\n",
        "    img = color.hsv2rgb(hsv)\n",
        "\n",
        "    # central square crop\n",
        "    min_side = min(img.shape[:-1])\n",
        "    centre = img.shape[0] // 2, img.shape[1] // 2\n",
        "    img = img[centre[0] - min_side // 2:centre[0] + min_side // 2,\n",
        "              centre[1] - min_side // 2:centre[1] + min_side // 2,\n",
        "              :]\n",
        "\n",
        "    # rescale to standard size\n",
        "    img = transform.resize(img, (32, 32))\n",
        "\n",
        "    return img\n",
        "\n",
        "\n",
        "def get_class(img_path):\n",
        "    return int(img_path.split(os.sep)[-2])"
      ],
      "execution_count": 30,
      "outputs": []
    },
    {
      "cell_type": "code",
      "metadata": {
        "id": "OdJyOJ2C4XTP",
        "colab": {
          "base_uri": "https://localhost:8080/"
        },
        "outputId": "c20e1196-6995-47df-af2e-e3b68790f5ae"
      },
      "source": [
        "root_dir = 'dataset' + os.sep + 'training' + os.sep\n",
        "\n",
        "imgs = []\n",
        "labels = []\n",
        "\n",
        "all_img_paths = glob.glob(os.path.join(root_dir, '*/*.jpg'))\n",
        "\n",
        "np.random.shuffle(all_img_paths)\n",
        "for img_path in all_img_paths:\n",
        "    img = preprocess_img(mpimg.imread(img_path))\n",
        "    label = get_class(img_path)\n",
        "    imgs.append(img)\n",
        "    labels.append(label)\n",
        "\n",
        "X = np.array(imgs, dtype='float32')\n",
        "# Make one hot targets\n",
        "Y = np.eye(43, dtype='uint8')[labels]\n",
        "\n",
        "print(len(X))\n",
        "\n",
        "# Normalize pixel values to be between 0 and 1\n",
        "X = X / 255.0\n",
        "\n",
        "# Split data into training and validation (test) set\n",
        "from sklearn.model_selection import train_test_split\n",
        "train_images, test_images, train_labels, test_labels = train_test_split(X, Y, test_size=0.2, random_state=42)"
      ],
      "execution_count": 31,
      "outputs": [
        {
          "output_type": "stream",
          "text": [
            "39209\n"
          ],
          "name": "stdout"
        }
      ]
    },
    {
      "cell_type": "code",
      "metadata": {
        "colab": {
          "base_uri": "https://localhost:8080/",
          "height": 300
        },
        "id": "oHcvfWFjdzQm",
        "outputId": "188fa6d8-164a-4364-9faa-39f6b4c03290"
      },
      "source": [
        "print(len(train_images))\n",
        "image = train_images[100]\n",
        "\n",
        "pyplot.imshow(image[:, :, :]*255)"
      ],
      "execution_count": 32,
      "outputs": [
        {
          "output_type": "stream",
          "text": [
            "31367\n"
          ],
          "name": "stdout"
        },
        {
          "output_type": "execute_result",
          "data": {
            "text/plain": [
              "<matplotlib.image.AxesImage at 0x7f0d599e1cf8>"
            ]
          },
          "metadata": {
            "tags": []
          },
          "execution_count": 32
        },
        {
          "output_type": "display_data",
          "data": {
            "image/png": "[encoded data removed]",
            "text/plain": [
              "<Figure size 432x288 with 1 Axes>"
            ]
          },
          "metadata": {
            "tags": [],
            "needs_background": "light"
          }
        }
      ]
    },
    {
      "cell_type": "markdown",
      "metadata": {
        "id": "aOtOdWrdFpTv"
      },
      "source": [
        "# Generate data"
      ]
    },
    {
      "cell_type": "code",
      "metadata": {
        "id": "1bd8v_vkFom0"
      },
      "source": [
        "# example of loading the generator model and generating images\n",
        "from keras.models import load_model\n",
        "from numpy.random import randn\n",
        "from matplotlib import pyplot\n",
        " \n",
        "# generate points in latent space as input for the generator\n",
        "def generate_latent_points(latent_dim, n_samples):\n",
        "  # generate points in the latent space\n",
        "  x_input = randn(latent_dim * n_samples)\n",
        "  # reshape into a batch of inputs for the network\n",
        "  x_input = x_input.reshape(n_samples, latent_dim)\n",
        "  return x_input\n",
        " \n",
        "\n",
        "# Load model\n",
        "generator = load_model('trained_generator_model.h5')\n",
        "# Generate latent points\n",
        "latent_points = generate_latent_points(100, 5000)\n",
        "# Generate images\n",
        "generated_images = generator.predict(latent_points)\n",
        "print(generated_images.shape)\n",
        "\n",
        "# Show generated data\n",
        "plt.figure(figsize=(8,8))\n",
        "for i in range(9):\n",
        "    plt.subplot(3,3,i+1)\n",
        "    plt.xticks([])\n",
        "    plt.yticks([])\n",
        "    plt.grid(False)\n",
        "    plt.imshow(generated_images[i])\n",
        "plt.show()"
      ],
      "execution_count": null,
      "outputs": []
    },
    {
      "cell_type": "markdown",
      "metadata": {
        "id": "KeANjuj8E6tX"
      },
      "source": [
        "# Train CNN model"
      ]
    },
    {
      "cell_type": "code",
      "metadata": {
        "id": "y0NPdkBcFbjU"
      },
      "source": [
        "from tensorflow.keras import layers, models\n",
        "import matplotlib.pyplot as plt\n",
        "\n",
        "# Create the model\n",
        "model = models.Sequential()\n",
        "model.add(layers.Conv2D(32, (3, 3), activation='relu', input_shape=(32, 32, 3)))\n",
        "model.add(layers.MaxPooling2D((2, 2)))\n",
        "model.add(layers.Conv2D(64, (3, 3), activation='relu'))\n",
        "model.add(layers.MaxPooling2D((2, 2)))\n",
        "model.add(layers.Conv2D(64, (3, 3), activation='relu'))\n",
        "model.add(layers.Flatten())\n",
        "model.add(layers.Dense(64, activation='relu'))\n",
        "model.add(layers.Dense(43, activation='softmax'))\n",
        "model.summary()\n",
        "\n",
        "# Compile and train the model\n",
        "model.compile(optimizer='adam',\n",
        "              loss='categorical_crossentropy',\n",
        "              metrics=['accuracy'])\n",
        "\n",
        "# Test the model on the dataset\n",
        "history = model.fit(train_images, train_labels, epochs=50, validation_data=(test_images, test_labels))\n",
        "\n",
        "# Evaluate the model: accuracy\n",
        "plt.plot(history.history['accuracy'], label='Train')\n",
        "plt.plot(history.history['val_accuracy'], label='Validation')\n",
        "plt.title('CNN accuracy')\n",
        "plt.xlabel('Epoch')\n",
        "plt.ylabel('Accuracy')\n",
        "plt.ylim([0, 1])\n",
        "plt.legend(loc='lower right')\n",
        "plt.show()\n",
        "\n",
        "# Evaluate the model: loss\n",
        "plt.plot(history.history['loss'], label='Train')\n",
        "plt.plot(history.history['val_loss'], label='Validation')\n",
        "plt.title('CNN loss')\n",
        "plt.xlabel('Epoch')\n",
        "plt.ylabel('Loss')\n",
        "plt.ylim([0, 1])\n",
        "plt.legend(loc='lower right')\n",
        "plt.show()\n",
        "\n",
        "test_loss, test_acc = new_model.evaluate(test_images, test_labels, verbose=2)\n",
        "\n",
        "print(test_acc)"
      ],
      "execution_count": null,
      "outputs": []
    },
    {
      "cell_type": "markdown",
      "metadata": {
        "id": "mEgkZZXk08q9"
      },
      "source": [
        "# Predict labels for generated data"
      ]
    },
    {
      "cell_type": "code",
      "metadata": {
        "id": "S819QCsA09Fg"
      },
      "source": [
        "# Predict labels of generated data\n",
        "predictions = model.predict(generated_images)\n",
        "print(predictions.shape)"
      ],
      "execution_count": null,
      "outputs": []
    },
    {
      "cell_type": "markdown",
      "metadata": {
        "id": "SJFiWYk4GR7F"
      },
      "source": [
        "# Show predictions"
      ]
    },
    {
      "cell_type": "code",
      "metadata": {
        "id": "HQnHISKzGrOX"
      },
      "source": [
        "labelNames = ['20 km/h', '30 km/h', '50 km/h', '60 km/h', '70 km/h', '80 km/h', '80 km/h end', '100 km/h', '120 km/h', 'No overtaking',\n",
        "               'No overtaking for tracks', 'Crossroad with secondary way', 'Main road', 'Give way', 'Stop', 'Road up', 'Road up for track', 'Brock',\n",
        "               'Other dangerous', 'Turn left', 'Turn right', 'Winding road', 'Hollow road', 'Slippery road', 'Narrowing road', 'Roadwork', 'Traffic light',\n",
        "               'Pedestrian', 'Children', 'Bike', 'Snow', 'Deer', 'End of the limits', 'Only right', 'Only left', 'Only straight', 'Only straight and right', \n",
        "               'Only straight and left', 'Take right', 'Take left', 'Circle crossroad', 'End of overtaking limit', 'End of overtaking limit for track']"
      ],
      "execution_count": null,
      "outputs": []
    },
    {
      "cell_type": "code",
      "metadata": {
        "id": "5zrx4LEOGReS"
      },
      "source": [
        "plt.figure(figsize=(15,15))\n",
        "for i in range(25):\n",
        "    plt.subplot(5,5,i+1)\n",
        "    plt.xticks([])\n",
        "    plt.yticks([])\n",
        "    plt.grid(False)\n",
        "    plt.imshow(generated_images[i])\n",
        "    plt.xlabel(labelNames[np.argmax(predictions[i])] + ' (' + str(np.amax(predictions[i])) + ')')\n",
        "plt.show()"
      ],
      "execution_count": null,
      "outputs": []
    },
    {
      "cell_type": "markdown",
      "metadata": {
        "id": "ci4SGkdFaVEj"
      },
      "source": [
        "# Remove uncertain images"
      ]
    },
    {
      "cell_type": "code",
      "metadata": {
        "id": "Br5YfAasabPN"
      },
      "source": [
        "print(train_images.shape)\n",
        "\n",
        "new_train_images = []\n",
        "new_train_labels = []\n",
        "\n",
        "for i, image in enumerate(generated_images):\n",
        "  # Get label predictions for generated image\n",
        "  prediction = predictions[i]\n",
        "  # Remove label with highest score\n",
        "  other_labels = np.delete(prediction, np.argmax(prediction)) \n",
        "\n",
        "  if np.sum(other_labels) == 0:\n",
        "    new_train_images.append(image)\n",
        "    new_train_labels.append(prediction)\n",
        "\n",
        "  # Stop when 4000 generated images are added\n",
        "  if len(new_train_images) == 4000:\n",
        "    break\n",
        "\n",
        "\n",
        "# Convert to numpy array\n",
        "new_train_images = np.array(new_train_images)\n",
        "new_train_labels = np.array(new_train_labels)\n",
        "\n",
        "# Combine old training set with generated training set\n",
        "extended_train_images = np.vstack([train_images, new_train_images])\n",
        "extended_train_labels = np.vstack([train_labels, new_train_labels])\n",
        "\n",
        "print(extended_train_images.shape)\n",
        "  "
      ],
      "execution_count": null,
      "outputs": []
    },
    {
      "cell_type": "markdown",
      "metadata": {
        "id": "vQF4U2rLkx3T"
      },
      "source": [
        "# Test CNN with generated data"
      ]
    },
    {
      "cell_type": "code",
      "metadata": {
        "id": "qm-X9DEmkyQV"
      },
      "source": [
        "# Create the new CNN model\n",
        "new_model = models.Sequential()\n",
        "new_model.add(layers.Conv2D(32, (3, 3), activation='relu', input_shape=(32, 32, 3)))\n",
        "new_model.add(layers.MaxPooling2D((2, 2)))\n",
        "new_model.add(layers.Conv2D(64, (3, 3), activation='relu'))\n",
        "new_model.add(layers.MaxPooling2D((2, 2)))\n",
        "new_model.add(layers.Conv2D(64, (3, 3), activation='relu'))\n",
        "new_model.add(layers.Flatten())\n",
        "new_model.add(layers.Dense(64, activation='relu'))\n",
        "new_model.add(layers.Dense(43, activation='softmax'))\n",
        "new_model.summary()\n",
        "\n",
        "# Compile and train the model\n",
        "new_model.compile(optimizer='adam',\n",
        "              loss='categorical_crossentropy',\n",
        "              metrics=['accuracy'])\n",
        "\n",
        "# Test the model on the dataset\n",
        "history = new_model.fit(extended_train_images, extended_train_labels, epochs=50, validation_data=(test_images, test_labels))\n",
        "\n",
        "# Evaluate the model: accuracy\n",
        "plt.plot(history.history['accuracy'], label='Train')\n",
        "plt.plot(history.history['val_accuracy'], label='Validation')\n",
        "plt.title('CNN + DCGAN accuracy')\n",
        "plt.xlabel('Epoch')\n",
        "plt.ylabel('Accuracy')\n",
        "plt.ylim([0, 1])\n",
        "plt.legend(loc='lower right')\n",
        "plt.show()\n",
        "\n",
        "# Evaluate the model: loss\n",
        "plt.plot(history.history['loss'], label='Train')\n",
        "plt.plot(history.history['val_loss'], label='Validation')\n",
        "plt.title('CNN + DCGAN loss')\n",
        "plt.xlabel('Epoch')\n",
        "plt.ylabel('Loss')\n",
        "plt.ylim([0, 1])\n",
        "plt.legend(loc='lower right')\n",
        "plt.show()\n",
        "\n",
        "test_loss, test_acc = new_model.evaluate(test_images,  test_labels, verbose=2)\n",
        "\n",
        "print(test_acc)"
      ],
      "execution_count": null,
      "outputs": []
    }
  ]
}